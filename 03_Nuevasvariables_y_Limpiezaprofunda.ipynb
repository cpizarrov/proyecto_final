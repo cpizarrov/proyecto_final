{
 "cells": [
  {
   "cell_type": "markdown",
   "id": "2a3de9b3",
   "metadata": {},
   "source": [
    "**Importamos las librerías necesarias:**"
   ]
  },
  {
   "cell_type": "code",
   "execution_count": 1,
   "id": "4567e8ae",
   "metadata": {},
   "outputs": [],
   "source": [
    "import pandas as pd\n",
    "import numpy as np\n",
    "import matplotlib.pyplot as plt\n",
    "import seaborn as sns"
   ]
  },
  {
   "cell_type": "markdown",
   "id": "83c5b6f5",
   "metadata": {},
   "source": [
    "**Cargamos nuestra base de datos. Se transforma la variable 'Fecha' a datetime para evitar problemas de visualización:**"
   ]
  },
  {
   "cell_type": "code",
   "execution_count": 2,
   "id": "ca5e33b1",
   "metadata": {},
   "outputs": [],
   "source": [
    "df = pd.read_csv(\"https://raw.githubusercontent.com/cpizarrov/proyecto_final/main/covid_global.csv\")\n",
    "df['Fecha'] = pd.to_datetime(df['Fecha'])"
   ]
  }
 ],
 "metadata": {
  "kernelspec": {
   "display_name": "Python 3 (ipykernel)",
   "language": "python",
   "name": "python3"
  },
  "language_info": {
   "codemirror_mode": {
    "name": "ipython",
    "version": 3
   },
   "file_extension": ".py",
   "mimetype": "text/x-python",
   "name": "python",
   "nbconvert_exporter": "python",
   "pygments_lexer": "ipython3",
   "version": "3.9.13"
  }
 },
 "nbformat": 4,
 "nbformat_minor": 5
}
