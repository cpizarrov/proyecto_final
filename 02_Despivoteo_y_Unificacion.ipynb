{
 "cells": [
  {
   "cell_type": "markdown",
   "id": "8a6f847d",
   "metadata": {},
   "source": [
    "**Importamos las librerías necesarias**"
   ]
  },
  {
   "cell_type": "code",
   "execution_count": 1,
   "id": "c6522aa9",
   "metadata": {},
   "outputs": [],
   "source": [
    "import pandas as pd\n",
    "import numpy as np\n",
    "import seaborn as sns"
   ]
  },
  {
   "cell_type": "markdown",
   "id": "125c8f0d",
   "metadata": {},
   "source": [
    "**Cargamos nuestras bases de datos**"
   ]
  },
  {
   "cell_type": "code",
   "execution_count": 2,
   "id": "b8cda8cc",
   "metadata": {},
   "outputs": [],
   "source": [
    "cg = pd.read_csv(\"https://raw.githubusercontent.com/CSSEGISandData/COVID-19/master/csse_covid_19_data/csse_covid_19_time_series/time_series_covid19_confirmed_global.csv\")\n",
    "dg = pd.read_csv(\"https://raw.githubusercontent.com/CSSEGISandData/COVID-19/master/csse_covid_19_data/csse_covid_19_time_series/time_series_covid19_deaths_global.csv\")\n",
    "rg = pd.read_csv(\"https://raw.githubusercontent.com/CSSEGISandData/COVID-19/master/csse_covid_19_data/csse_covid_19_time_series/time_series_covid19_recovered_global.csv\")"
   ]
  },
  {
   "cell_type": "markdown",
   "id": "d60b13a9",
   "metadata": {},
   "source": [
    "**Recordemos que:**\n",
    "- cg: Tabla de casos confirmados a nivel global.\n",
    "- dg: Tabla de muertes a nivel global.\n",
    "- rg: Tabla de recuperados a nivel global."
   ]
  },
  {
   "cell_type": "markdown",
   "id": "01fa8b01",
   "metadata": {},
   "source": [
    "**Tal y como comentamos en la sección anterior, lo primero que haremos será eliminar las variables de 'Province/State', 'Lat' y 'Long':**"
   ]
  },
  {
   "cell_type": "code",
   "execution_count": 3,
   "id": "5cab372b",
   "metadata": {},
   "outputs": [],
   "source": [
    "cg = cg.drop('Province/State', axis=1)\n",
    "dg = dg.drop('Province/State', axis=1)\n",
    "rg = rg.drop('Province/State', axis=1)\n",
    "\n",
    "cg = cg.drop(['Lat','Long'], axis=1)\n",
    "dg = dg.drop(['Lat','Long'], axis=1)\n",
    "rg = rg.drop(['Lat','Long'], axis=1)"
   ]
  },
  {
   "cell_type": "markdown",
   "id": "9e1a12e1",
   "metadata": {},
   "source": [
    "**¿Cuántos duplicados tenemos?:**"
   ]
  },
  {
   "cell_type": "code",
   "execution_count": 4,
   "id": "59eb6e91",
   "metadata": {},
   "outputs": [
    {
     "data": {
      "text/plain": [
       "88"
      ]
     },
     "execution_count": 4,
     "metadata": {},
     "output_type": "execute_result"
    }
   ],
   "source": [
    "cg['Country/Region'].duplicated().sum()"
   ]
  },
  {
   "cell_type": "code",
   "execution_count": 5,
   "id": "b97d5a85",
   "metadata": {},
   "outputs": [
    {
     "data": {
      "text/plain": [
       "88"
      ]
     },
     "execution_count": 5,
     "metadata": {},
     "output_type": "execute_result"
    }
   ],
   "source": [
    "dg['Country/Region'].duplicated().sum()"
   ]
  },
  {
   "cell_type": "code",
   "execution_count": 6,
   "id": "4838cc7e",
   "metadata": {},
   "outputs": [
    {
     "data": {
      "text/plain": [
       "73"
      ]
     },
     "execution_count": 6,
     "metadata": {},
     "output_type": "execute_result"
    }
   ],
   "source": [
    "rg['Country/Region'].duplicated().sum()"
   ]
  },
  {
   "cell_type": "markdown",
   "id": "886e4f24",
   "metadata": {},
   "source": [
    "**Nuestras bases quedaron con datos duplicados debido a que habían países que se encontraban subdivididos a nivel de Provincia o Estado. Solucionaremos esta problemática mientras despivotamos las tablas, de modo tal que cada país t **"
   ]
  },
  {
   "cell_type": "code",
   "execution_count": 9,
   "id": "a549d092",
   "metadata": {},
   "outputs": [],
   "source": [
    "cg_despivotada = pd.melt(cg, id_vars='Country/Region', var_name='Fecha', value_name='Confirmados acumulados')\n",
    "cg_despivotada['Fecha'] = pd.to_datetime(cg_despivotada['Fecha'])\n",
    "\n",
    "dg_despivotada = pd.melt(dg, id_vars='Country/Region', var_name='Fecha', value_name='Muertes acumuladas')\n",
    "dg_despivotada['Fecha'] = pd.to_datetime(dg_despivotada['Fecha'])\n",
    "\n",
    "rg_despivotada = pd.melt(rg, id_vars='Country/Region', var_name='Fecha', value_name='Recuperados acumulados')\n",
    "rg_despivotada['Fecha'] = pd.to_datetime(rg_despivotada['Fecha'])"
   ]
  }
 ],
 "metadata": {
  "kernelspec": {
   "display_name": "Python 3 (ipykernel)",
   "language": "python",
   "name": "python3"
  },
  "language_info": {
   "codemirror_mode": {
    "name": "ipython",
    "version": 3
   },
   "file_extension": ".py",
   "mimetype": "text/x-python",
   "name": "python",
   "nbconvert_exporter": "python",
   "pygments_lexer": "ipython3",
   "version": "3.9.13"
  }
 },
 "nbformat": 4,
 "nbformat_minor": 5
}
