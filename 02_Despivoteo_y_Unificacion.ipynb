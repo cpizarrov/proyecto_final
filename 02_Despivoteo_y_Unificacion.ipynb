{
 "cells": [
  {
   "cell_type": "markdown",
   "id": "d61a9cfc",
   "metadata": {},
   "source": [
    "**Importamos las librerías necesarias**"
   ]
  },
  {
   "cell_type": "code",
   "execution_count": 1,
   "id": "5b50bc7d",
   "metadata": {},
   "outputs": [],
   "source": [
    "import pandas as pd\n",
    "import numpy as np\n",
    "import seaborn as sns"
   ]
  },
  {
   "cell_type": "markdown",
   "id": "fdd63e08",
   "metadata": {},
   "source": [
    "**Cargamos nuestras bases de datos**"
   ]
  },
  {
   "cell_type": "code",
   "execution_count": 2,
   "id": "39211bc1",
   "metadata": {},
   "outputs": [],
   "source": [
    "cg = pd.read_csv(\"https://raw.githubusercontent.com/CSSEGISandData/COVID-19/master/csse_covid_19_data/csse_covid_19_time_series/time_series_covid19_confirmed_global.csv\")\n",
    "dg = pd.read_csv(\"https://raw.githubusercontent.com/CSSEGISandData/COVID-19/master/csse_covid_19_data/csse_covid_19_time_series/time_series_covid19_deaths_global.csv\")\n",
    "rg = pd.read_csv(\"https://raw.githubusercontent.com/CSSEGISandData/COVID-19/master/csse_covid_19_data/csse_covid_19_time_series/time_series_covid19_recovered_global.csv\")"
   ]
  },
  {
   "cell_type": "markdown",
   "id": "5c204f24",
   "metadata": {},
   "source": [
    "**Recordemos que:**\n",
    "- cg: Tabla de casos confirmados a nivel global.\n",
    "- dg: Tabla de muertes a nivel global.\n",
    "- rg: Tabla de recuperados a nivel global."
   ]
  },
  {
   "cell_type": "markdown",
   "id": "40055c46",
   "metadata": {},
   "source": [
    "**Tal y como comentamos en la sección anterior, lo primero que haremos será eliminar las variables de 'Province/State', 'Lat' y 'Long':**"
   ]
  },
  {
   "cell_type": "code",
   "execution_count": 3,
   "id": "0125a476",
   "metadata": {},
   "outputs": [],
   "source": [
    "cg = cg.drop('Province/State', axis=1)\n",
    "dg = dg.drop('Province/State', axis=1)\n",
    "rg = rg.drop('Province/State', axis=1)\n",
    "\n",
    "cg = cg.drop(['Lat','Long'], axis=1)\n",
    "dg = dg.drop(['Lat','Long'], axis=1)\n",
    "rg = rg.drop(['Lat','Long'], axis=1)"
   ]
  },
  {
   "cell_type": "markdown",
   "id": "fc9f87a9",
   "metadata": {},
   "source": [
    "**¿Cuántos duplicados tenemos?:**"
   ]
  },
  {
   "cell_type": "code",
   "execution_count": 4,
   "id": "0e158df0",
   "metadata": {},
   "outputs": [
    {
     "data": {
      "text/plain": [
       "88"
      ]
     },
     "execution_count": 4,
     "metadata": {},
     "output_type": "execute_result"
    }
   ],
   "source": [
    "cg['Country/Region'].duplicated().sum()"
   ]
  },
  {
   "cell_type": "code",
   "execution_count": 5,
   "id": "59006e2e",
   "metadata": {},
   "outputs": [
    {
     "data": {
      "text/plain": [
       "88"
      ]
     },
     "execution_count": 5,
     "metadata": {},
     "output_type": "execute_result"
    }
   ],
   "source": [
    "dg['Country/Region'].duplicated().sum()"
   ]
  },
  {
   "cell_type": "code",
   "execution_count": 6,
   "id": "947ccd9d",
   "metadata": {},
   "outputs": [
    {
     "data": {
      "text/plain": [
       "73"
      ]
     },
     "execution_count": 6,
     "metadata": {},
     "output_type": "execute_result"
    }
   ],
   "source": [
    "rg['Country/Region'].duplicated().sum()"
   ]
  },
  {
   "cell_type": "markdown",
   "id": "408edc21",
   "metadata": {},
   "source": [
    "**Nuestras bases quedaron con datos duplicados debido a que habían países que se encontraban subdivididos a nivel de Provincia o Estado. Primero, solucionaremos esta problemática agrupando la información a nivel de país.** \n",
    "\n",
    "**Posteriormente, procederemos a despivotar nuestras tablas, de modo tal que las columnas de fechas pasarán a ser filas. Esto nos facilitará las tareas de revisión y análisis:**"
   ]
  },
  {
   "cell_type": "code",
   "execution_count": 10,
   "id": "54a0d3d3",
   "metadata": {},
   "outputs": [],
   "source": [
    "cg = cg.groupby('Country/Region').sum().reset_index()\n",
    "dg = dg.groupby('Country/Region').sum().reset_index()\n",
    "rg = rg.groupby('Country/Region').sum().reset_index()"
   ]
  },
  {
   "cell_type": "code",
   "execution_count": 9,
   "id": "62c11366",
   "metadata": {},
   "outputs": [],
   "source": [
    "cg_despivotada = pd.melt(cg, id_vars='Country/Region', var_name='Fecha', value_name='Confirmados acumulados')\n",
    "cg_despivotada['Fecha'] = pd.to_datetime(cg_despivotada['Fecha'])\n",
    "\n",
    "dg_despivotada = pd.melt(dg, id_vars='Country/Region', var_name='Fecha', value_name='Muertes acumuladas')\n",
    "dg_despivotada['Fecha'] = pd.to_datetime(dg_despivotada['Fecha'])\n",
    "\n",
    "rg_despivotada = pd.melt(rg, id_vars='Country/Region', var_name='Fecha', value_name='Recuperados acumulados')\n",
    "rg_despivotada['Fecha'] = pd.to_datetime(rg_despivotada['Fecha'])"
   ]
  }
 ],
 "metadata": {
  "kernelspec": {
   "display_name": "Python 3 (ipykernel)",
   "language": "python",
   "name": "python3"
  },
  "language_info": {
   "codemirror_mode": {
    "name": "ipython",
    "version": 3
   },
   "file_extension": ".py",
   "mimetype": "text/x-python",
   "name": "python",
   "nbconvert_exporter": "python",
   "pygments_lexer": "ipython3",
   "version": "3.9.13"
  }
 },
 "nbformat": 4,
 "nbformat_minor": 5
}
