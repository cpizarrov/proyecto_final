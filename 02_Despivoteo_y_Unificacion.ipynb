{
 "cells": [
  {
   "cell_type": "markdown",
   "id": "daebf409",
   "metadata": {},
   "source": [
    "**Importamos las librerías necesarias**"
   ]
  },
  {
   "cell_type": "code",
   "execution_count": 1,
   "id": "eccb2149",
   "metadata": {},
   "outputs": [],
   "source": [
    "import pandas as pd\n",
    "import numpy as np\n",
    "import seaborn as sns\n",
    "import matplotlib.pyplot as plt"
   ]
  },
  {
   "cell_type": "markdown",
   "id": "a80faeba",
   "metadata": {},
   "source": [
    "**Cargamos nuestras bases de datos**"
   ]
  },
  {
   "cell_type": "code",
   "execution_count": 2,
   "id": "d38c7986",
   "metadata": {},
   "outputs": [],
   "source": [
    "cg = pd.read_csv(\"https://raw.githubusercontent.com/CSSEGISandData/COVID-19/master/csse_covid_19_data/csse_covid_19_time_series/time_series_covid19_confirmed_global.csv\")\n",
    "dg = pd.read_csv(\"https://raw.githubusercontent.com/CSSEGISandData/COVID-19/master/csse_covid_19_data/csse_covid_19_time_series/time_series_covid19_deaths_global.csv\")\n",
    "rg = pd.read_csv(\"https://raw.githubusercontent.com/CSSEGISandData/COVID-19/master/csse_covid_19_data/csse_covid_19_time_series/time_series_covid19_recovered_global.csv\")"
   ]
  },
  {
   "cell_type": "markdown",
   "id": "c11a427b",
   "metadata": {},
   "source": [
    "**Recordemos que:**\n",
    "- cg: Tabla de casos confirmados a nivel global.\n",
    "- dg: Tabla de muertes a nivel global.\n",
    "- rg: Tabla de recuperados a nivel global."
   ]
  },
  {
   "cell_type": "markdown",
   "id": "43898f80",
   "metadata": {},
   "source": [
    "**Tal y como comentamos en la sección anterior, lo primero que haremos será eliminar las variables de 'Province/State', 'Lat' y 'Long':**"
   ]
  },
  {
   "cell_type": "code",
   "execution_count": 3,
   "id": "3922c70d",
   "metadata": {},
   "outputs": [],
   "source": [
    "cg = cg.drop('Province/State', axis=1)\n",
    "dg = dg.drop('Province/State', axis=1)\n",
    "rg = rg.drop('Province/State', axis=1)\n",
    "\n",
    "cg = cg.drop(['Lat','Long'], axis=1)\n",
    "dg = dg.drop(['Lat','Long'], axis=1)\n",
    "rg = rg.drop(['Lat','Long'], axis=1)"
   ]
  },
  {
   "cell_type": "markdown",
   "id": "4ceddbf5",
   "metadata": {},
   "source": [
    "**¿Cuántos duplicados tenemos?:**"
   ]
  },
  {
   "cell_type": "code",
   "execution_count": 4,
   "id": "01d698e0",
   "metadata": {},
   "outputs": [
    {
     "data": {
      "text/plain": [
       "88"
      ]
     },
     "execution_count": 4,
     "metadata": {},
     "output_type": "execute_result"
    }
   ],
   "source": [
    "cg['Country/Region'].duplicated().sum()"
   ]
  },
  {
   "cell_type": "code",
   "execution_count": 5,
   "id": "ae8bb38e",
   "metadata": {},
   "outputs": [
    {
     "data": {
      "text/plain": [
       "88"
      ]
     },
     "execution_count": 5,
     "metadata": {},
     "output_type": "execute_result"
    }
   ],
   "source": [
    "dg['Country/Region'].duplicated().sum()"
   ]
  },
  {
   "cell_type": "code",
   "execution_count": 6,
   "id": "86b74cea",
   "metadata": {},
   "outputs": [
    {
     "data": {
      "text/plain": [
       "73"
      ]
     },
     "execution_count": 6,
     "metadata": {},
     "output_type": "execute_result"
    }
   ],
   "source": [
    "rg['Country/Region'].duplicated().sum()"
   ]
  },
  {
   "cell_type": "markdown",
   "id": "378e5b73",
   "metadata": {},
   "source": [
    "**Nuestras bases quedaron con datos duplicados debido a que habían países que se encontraban subdivididos a nivel de Provincia o Estado. Primero, solucionaremos esta problemática agrupando la información a nivel de país.** \n",
    "\n",
    "**Posteriormente, procederemos a despivotar nuestras tablas, de modo tal que las columnas de fechas pasarán a ser filas. Esto nos facilitará las tareas de revisión y análisis:**"
   ]
  },
  {
   "cell_type": "code",
   "execution_count": 7,
   "id": "71b52eb6",
   "metadata": {},
   "outputs": [],
   "source": [
    "cg = cg.groupby('Country/Region').sum().reset_index()\n",
    "dg = dg.groupby('Country/Region').sum().reset_index()\n",
    "rg = rg.groupby('Country/Region').sum().reset_index()"
   ]
  },
  {
   "cell_type": "code",
   "execution_count": 8,
   "id": "5ce31619",
   "metadata": {},
   "outputs": [],
   "source": [
    "cg_despivotada = pd.melt(cg, id_vars='Country/Region', var_name='Fecha', value_name='Confirmados acumulados')\n",
    "cg_despivotada['Fecha'] = pd.to_datetime(cg_despivotada['Fecha'])\n",
    "\n",
    "dg_despivotada = pd.melt(dg, id_vars='Country/Region', var_name='Fecha', value_name='Muertes acumuladas')\n",
    "dg_despivotada['Fecha'] = pd.to_datetime(dg_despivotada['Fecha'])\n",
    "\n",
    "rg_despivotada = pd.melt(rg, id_vars='Country/Region', var_name='Fecha', value_name='Recuperados acumulados')\n",
    "rg_despivotada['Fecha'] = pd.to_datetime(rg_despivotada['Fecha'])"
   ]
  },
  {
   "cell_type": "markdown",
   "id": "adf68929",
   "metadata": {},
   "source": [
    "**Ahora bien, ¿Cómo se observa la estructura de nuestras tablas? ¿Se observa alguna anomalía?:** "
   ]
  },
  {
   "cell_type": "code",
   "execution_count": 9,
   "id": "073e781d",
   "metadata": {},
   "outputs": [
    {
     "data": {
      "text/html": [
       "<div>\n",
       "<style scoped>\n",
       "    .dataframe tbody tr th:only-of-type {\n",
       "        vertical-align: middle;\n",
       "    }\n",
       "\n",
       "    .dataframe tbody tr th {\n",
       "        vertical-align: top;\n",
       "    }\n",
       "\n",
       "    .dataframe thead th {\n",
       "        text-align: right;\n",
       "    }\n",
       "</style>\n",
       "<table border=\"1\" class=\"dataframe\">\n",
       "  <thead>\n",
       "    <tr style=\"text-align: right;\">\n",
       "      <th></th>\n",
       "      <th>Country/Region</th>\n",
       "      <th>Fecha</th>\n",
       "      <th>Confirmados acumulados</th>\n",
       "    </tr>\n",
       "  </thead>\n",
       "  <tbody>\n",
       "    <tr>\n",
       "      <th>0</th>\n",
       "      <td>Afghanistan</td>\n",
       "      <td>2020-01-22</td>\n",
       "      <td>0</td>\n",
       "    </tr>\n",
       "    <tr>\n",
       "      <th>1</th>\n",
       "      <td>Albania</td>\n",
       "      <td>2020-01-22</td>\n",
       "      <td>0</td>\n",
       "    </tr>\n",
       "    <tr>\n",
       "      <th>2</th>\n",
       "      <td>Algeria</td>\n",
       "      <td>2020-01-22</td>\n",
       "      <td>0</td>\n",
       "    </tr>\n",
       "    <tr>\n",
       "      <th>3</th>\n",
       "      <td>Andorra</td>\n",
       "      <td>2020-01-22</td>\n",
       "      <td>0</td>\n",
       "    </tr>\n",
       "    <tr>\n",
       "      <th>4</th>\n",
       "      <td>Angola</td>\n",
       "      <td>2020-01-22</td>\n",
       "      <td>0</td>\n",
       "    </tr>\n",
       "    <tr>\n",
       "      <th>...</th>\n",
       "      <td>...</td>\n",
       "      <td>...</td>\n",
       "      <td>...</td>\n",
       "    </tr>\n",
       "    <tr>\n",
       "      <th>229738</th>\n",
       "      <td>West Bank and Gaza</td>\n",
       "      <td>2023-03-09</td>\n",
       "      <td>703228</td>\n",
       "    </tr>\n",
       "    <tr>\n",
       "      <th>229739</th>\n",
       "      <td>Winter Olympics 2022</td>\n",
       "      <td>2023-03-09</td>\n",
       "      <td>535</td>\n",
       "    </tr>\n",
       "    <tr>\n",
       "      <th>229740</th>\n",
       "      <td>Yemen</td>\n",
       "      <td>2023-03-09</td>\n",
       "      <td>11945</td>\n",
       "    </tr>\n",
       "    <tr>\n",
       "      <th>229741</th>\n",
       "      <td>Zambia</td>\n",
       "      <td>2023-03-09</td>\n",
       "      <td>343135</td>\n",
       "    </tr>\n",
       "    <tr>\n",
       "      <th>229742</th>\n",
       "      <td>Zimbabwe</td>\n",
       "      <td>2023-03-09</td>\n",
       "      <td>264276</td>\n",
       "    </tr>\n",
       "  </tbody>\n",
       "</table>\n",
       "<p>229743 rows × 3 columns</p>\n",
       "</div>"
      ],
      "text/plain": [
       "              Country/Region      Fecha  Confirmados acumulados\n",
       "0                Afghanistan 2020-01-22                       0\n",
       "1                    Albania 2020-01-22                       0\n",
       "2                    Algeria 2020-01-22                       0\n",
       "3                    Andorra 2020-01-22                       0\n",
       "4                     Angola 2020-01-22                       0\n",
       "...                      ...        ...                     ...\n",
       "229738    West Bank and Gaza 2023-03-09                  703228\n",
       "229739  Winter Olympics 2022 2023-03-09                     535\n",
       "229740                 Yemen 2023-03-09                   11945\n",
       "229741                Zambia 2023-03-09                  343135\n",
       "229742              Zimbabwe 2023-03-09                  264276\n",
       "\n",
       "[229743 rows x 3 columns]"
      ]
     },
     "execution_count": 9,
     "metadata": {},
     "output_type": "execute_result"
    }
   ],
   "source": [
    "cg_despivotada"
   ]
  },
  {
   "cell_type": "code",
   "execution_count": 10,
   "id": "66f235cb",
   "metadata": {},
   "outputs": [
    {
     "data": {
      "text/plain": [
       "count    2.297430e+05\n",
       "mean     1.379412e+06\n",
       "std      5.810423e+06\n",
       "min      0.000000e+00\n",
       "25%      3.831000e+03\n",
       "50%      5.293300e+04\n",
       "75%      4.995925e+05\n",
       "max      1.038027e+08\n",
       "Name: Confirmados acumulados, dtype: float64"
      ]
     },
     "execution_count": 10,
     "metadata": {},
     "output_type": "execute_result"
    }
   ],
   "source": [
    "cg_despivotada['Confirmados acumulados'].describe()"
   ]
  },
  {
   "cell_type": "code",
   "execution_count": 11,
   "id": "60d2b71b",
   "metadata": {},
   "outputs": [
    {
     "data": {
      "text/html": [
       "<div>\n",
       "<style scoped>\n",
       "    .dataframe tbody tr th:only-of-type {\n",
       "        vertical-align: middle;\n",
       "    }\n",
       "\n",
       "    .dataframe tbody tr th {\n",
       "        vertical-align: top;\n",
       "    }\n",
       "\n",
       "    .dataframe thead th {\n",
       "        text-align: right;\n",
       "    }\n",
       "</style>\n",
       "<table border=\"1\" class=\"dataframe\">\n",
       "  <thead>\n",
       "    <tr style=\"text-align: right;\">\n",
       "      <th></th>\n",
       "      <th>Country/Region</th>\n",
       "      <th>Fecha</th>\n",
       "      <th>Muertes acumuladas</th>\n",
       "    </tr>\n",
       "  </thead>\n",
       "  <tbody>\n",
       "    <tr>\n",
       "      <th>0</th>\n",
       "      <td>Afghanistan</td>\n",
       "      <td>2020-01-22</td>\n",
       "      <td>0</td>\n",
       "    </tr>\n",
       "    <tr>\n",
       "      <th>1</th>\n",
       "      <td>Albania</td>\n",
       "      <td>2020-01-22</td>\n",
       "      <td>0</td>\n",
       "    </tr>\n",
       "    <tr>\n",
       "      <th>2</th>\n",
       "      <td>Algeria</td>\n",
       "      <td>2020-01-22</td>\n",
       "      <td>0</td>\n",
       "    </tr>\n",
       "    <tr>\n",
       "      <th>3</th>\n",
       "      <td>Andorra</td>\n",
       "      <td>2020-01-22</td>\n",
       "      <td>0</td>\n",
       "    </tr>\n",
       "    <tr>\n",
       "      <th>4</th>\n",
       "      <td>Angola</td>\n",
       "      <td>2020-01-22</td>\n",
       "      <td>0</td>\n",
       "    </tr>\n",
       "    <tr>\n",
       "      <th>...</th>\n",
       "      <td>...</td>\n",
       "      <td>...</td>\n",
       "      <td>...</td>\n",
       "    </tr>\n",
       "    <tr>\n",
       "      <th>229738</th>\n",
       "      <td>West Bank and Gaza</td>\n",
       "      <td>2023-03-09</td>\n",
       "      <td>5708</td>\n",
       "    </tr>\n",
       "    <tr>\n",
       "      <th>229739</th>\n",
       "      <td>Winter Olympics 2022</td>\n",
       "      <td>2023-03-09</td>\n",
       "      <td>0</td>\n",
       "    </tr>\n",
       "    <tr>\n",
       "      <th>229740</th>\n",
       "      <td>Yemen</td>\n",
       "      <td>2023-03-09</td>\n",
       "      <td>2159</td>\n",
       "    </tr>\n",
       "    <tr>\n",
       "      <th>229741</th>\n",
       "      <td>Zambia</td>\n",
       "      <td>2023-03-09</td>\n",
       "      <td>4057</td>\n",
       "    </tr>\n",
       "    <tr>\n",
       "      <th>229742</th>\n",
       "      <td>Zimbabwe</td>\n",
       "      <td>2023-03-09</td>\n",
       "      <td>5671</td>\n",
       "    </tr>\n",
       "  </tbody>\n",
       "</table>\n",
       "<p>229743 rows × 3 columns</p>\n",
       "</div>"
      ],
      "text/plain": [
       "              Country/Region      Fecha  Muertes acumuladas\n",
       "0                Afghanistan 2020-01-22                   0\n",
       "1                    Albania 2020-01-22                   0\n",
       "2                    Algeria 2020-01-22                   0\n",
       "3                    Andorra 2020-01-22                   0\n",
       "4                     Angola 2020-01-22                   0\n",
       "...                      ...        ...                 ...\n",
       "229738    West Bank and Gaza 2023-03-09                5708\n",
       "229739  Winter Olympics 2022 2023-03-09                   0\n",
       "229740                 Yemen 2023-03-09                2159\n",
       "229741                Zambia 2023-03-09                4057\n",
       "229742              Zimbabwe 2023-03-09                5671\n",
       "\n",
       "[229743 rows x 3 columns]"
      ]
     },
     "execution_count": 11,
     "metadata": {},
     "output_type": "execute_result"
    }
   ],
   "source": [
    "dg_despivotada"
   ]
  },
  {
   "cell_type": "code",
   "execution_count": 12,
   "id": "ea8e372d",
   "metadata": {},
   "outputs": [
    {
     "data": {
      "text/plain": [
       "count    2.297430e+05\n",
       "mean     1.923809e+04\n",
       "std      7.592769e+04\n",
       "min      0.000000e+00\n",
       "25%      4.600000e+01\n",
       "50%      7.860000e+02\n",
       "75%      7.227000e+03\n",
       "max      1.123836e+06\n",
       "Name: Muertes acumuladas, dtype: float64"
      ]
     },
     "execution_count": 12,
     "metadata": {},
     "output_type": "execute_result"
    }
   ],
   "source": [
    "dg_despivotada['Muertes acumuladas'].describe()"
   ]
  },
  {
   "cell_type": "code",
   "execution_count": 13,
   "id": "19d5a3f9",
   "metadata": {},
   "outputs": [
    {
     "data": {
      "text/html": [
       "<div>\n",
       "<style scoped>\n",
       "    .dataframe tbody tr th:only-of-type {\n",
       "        vertical-align: middle;\n",
       "    }\n",
       "\n",
       "    .dataframe tbody tr th {\n",
       "        vertical-align: top;\n",
       "    }\n",
       "\n",
       "    .dataframe thead th {\n",
       "        text-align: right;\n",
       "    }\n",
       "</style>\n",
       "<table border=\"1\" class=\"dataframe\">\n",
       "  <thead>\n",
       "    <tr style=\"text-align: right;\">\n",
       "      <th></th>\n",
       "      <th>Country/Region</th>\n",
       "      <th>Fecha</th>\n",
       "      <th>Recuperados acumulados</th>\n",
       "    </tr>\n",
       "  </thead>\n",
       "  <tbody>\n",
       "    <tr>\n",
       "      <th>0</th>\n",
       "      <td>Afghanistan</td>\n",
       "      <td>2020-01-22</td>\n",
       "      <td>0</td>\n",
       "    </tr>\n",
       "    <tr>\n",
       "      <th>1</th>\n",
       "      <td>Albania</td>\n",
       "      <td>2020-01-22</td>\n",
       "      <td>0</td>\n",
       "    </tr>\n",
       "    <tr>\n",
       "      <th>2</th>\n",
       "      <td>Algeria</td>\n",
       "      <td>2020-01-22</td>\n",
       "      <td>0</td>\n",
       "    </tr>\n",
       "    <tr>\n",
       "      <th>3</th>\n",
       "      <td>Andorra</td>\n",
       "      <td>2020-01-22</td>\n",
       "      <td>0</td>\n",
       "    </tr>\n",
       "    <tr>\n",
       "      <th>4</th>\n",
       "      <td>Angola</td>\n",
       "      <td>2020-01-22</td>\n",
       "      <td>0</td>\n",
       "    </tr>\n",
       "    <tr>\n",
       "      <th>...</th>\n",
       "      <td>...</td>\n",
       "      <td>...</td>\n",
       "      <td>...</td>\n",
       "    </tr>\n",
       "    <tr>\n",
       "      <th>229738</th>\n",
       "      <td>West Bank and Gaza</td>\n",
       "      <td>2023-03-09</td>\n",
       "      <td>0</td>\n",
       "    </tr>\n",
       "    <tr>\n",
       "      <th>229739</th>\n",
       "      <td>Winter Olympics 2022</td>\n",
       "      <td>2023-03-09</td>\n",
       "      <td>0</td>\n",
       "    </tr>\n",
       "    <tr>\n",
       "      <th>229740</th>\n",
       "      <td>Yemen</td>\n",
       "      <td>2023-03-09</td>\n",
       "      <td>0</td>\n",
       "    </tr>\n",
       "    <tr>\n",
       "      <th>229741</th>\n",
       "      <td>Zambia</td>\n",
       "      <td>2023-03-09</td>\n",
       "      <td>0</td>\n",
       "    </tr>\n",
       "    <tr>\n",
       "      <th>229742</th>\n",
       "      <td>Zimbabwe</td>\n",
       "      <td>2023-03-09</td>\n",
       "      <td>0</td>\n",
       "    </tr>\n",
       "  </tbody>\n",
       "</table>\n",
       "<p>229743 rows × 3 columns</p>\n",
       "</div>"
      ],
      "text/plain": [
       "              Country/Region      Fecha  Recuperados acumulados\n",
       "0                Afghanistan 2020-01-22                       0\n",
       "1                    Albania 2020-01-22                       0\n",
       "2                    Algeria 2020-01-22                       0\n",
       "3                    Andorra 2020-01-22                       0\n",
       "4                     Angola 2020-01-22                       0\n",
       "...                      ...        ...                     ...\n",
       "229738    West Bank and Gaza 2023-03-09                       0\n",
       "229739  Winter Olympics 2022 2023-03-09                       0\n",
       "229740                 Yemen 2023-03-09                       0\n",
       "229741                Zambia 2023-03-09                       0\n",
       "229742              Zimbabwe 2023-03-09                       0\n",
       "\n",
       "[229743 rows x 3 columns]"
      ]
     },
     "execution_count": 13,
     "metadata": {},
     "output_type": "execute_result"
    }
   ],
   "source": [
    "rg_despivotada"
   ]
  },
  {
   "cell_type": "code",
   "execution_count": 14,
   "id": "33aad020",
   "metadata": {},
   "outputs": [
    {
     "data": {
      "text/plain": [
       "count    2.297430e+05\n",
       "mean     1.022510e+05\n",
       "std      8.201866e+05\n",
       "min     -1.000000e+00\n",
       "25%      0.000000e+00\n",
       "50%      0.000000e+00\n",
       "75%      3.721500e+03\n",
       "max      3.097475e+07\n",
       "Name: Recuperados acumulados, dtype: float64"
      ]
     },
     "execution_count": 14,
     "metadata": {},
     "output_type": "execute_result"
    }
   ],
   "source": [
    "rg_despivotada['Recuperados acumulados'].describe()"
   ]
  },
  {
   "cell_type": "markdown",
   "id": "fec758fc",
   "metadata": {},
   "source": [
    "**En 'rg_despivotada' encontramos un valor anómalo: El mínimo no puede ser -1, así que debemos identificar donde está el error:**"
   ]
  },
  {
   "cell_type": "code",
   "execution_count": 15,
   "id": "d2148882",
   "metadata": {},
   "outputs": [
    {
     "data": {
      "text/html": [
       "<div>\n",
       "<style scoped>\n",
       "    .dataframe tbody tr th:only-of-type {\n",
       "        vertical-align: middle;\n",
       "    }\n",
       "\n",
       "    .dataframe tbody tr th {\n",
       "        vertical-align: top;\n",
       "    }\n",
       "\n",
       "    .dataframe thead th {\n",
       "        text-align: right;\n",
       "    }\n",
       "</style>\n",
       "<table border=\"1\" class=\"dataframe\">\n",
       "  <thead>\n",
       "    <tr style=\"text-align: right;\">\n",
       "      <th></th>\n",
       "      <th>Country/Region</th>\n",
       "      <th>Fecha</th>\n",
       "      <th>Recuperados acumulados</th>\n",
       "    </tr>\n",
       "  </thead>\n",
       "  <tbody>\n",
       "    <tr>\n",
       "      <th>194155</th>\n",
       "      <td>United Kingdom</td>\n",
       "      <td>2022-09-13</td>\n",
       "      <td>-1</td>\n",
       "    </tr>\n",
       "    <tr>\n",
       "      <th>194356</th>\n",
       "      <td>United Kingdom</td>\n",
       "      <td>2022-09-14</td>\n",
       "      <td>-1</td>\n",
       "    </tr>\n",
       "    <tr>\n",
       "      <th>194557</th>\n",
       "      <td>United Kingdom</td>\n",
       "      <td>2022-09-15</td>\n",
       "      <td>-1</td>\n",
       "    </tr>\n",
       "    <tr>\n",
       "      <th>194758</th>\n",
       "      <td>United Kingdom</td>\n",
       "      <td>2022-09-16</td>\n",
       "      <td>-1</td>\n",
       "    </tr>\n",
       "    <tr>\n",
       "      <th>194959</th>\n",
       "      <td>United Kingdom</td>\n",
       "      <td>2022-09-17</td>\n",
       "      <td>-1</td>\n",
       "    </tr>\n",
       "    <tr>\n",
       "      <th>195160</th>\n",
       "      <td>United Kingdom</td>\n",
       "      <td>2022-09-18</td>\n",
       "      <td>-1</td>\n",
       "    </tr>\n",
       "    <tr>\n",
       "      <th>195361</th>\n",
       "      <td>United Kingdom</td>\n",
       "      <td>2022-09-19</td>\n",
       "      <td>-1</td>\n",
       "    </tr>\n",
       "    <tr>\n",
       "      <th>195562</th>\n",
       "      <td>United Kingdom</td>\n",
       "      <td>2022-09-20</td>\n",
       "      <td>-1</td>\n",
       "    </tr>\n",
       "  </tbody>\n",
       "</table>\n",
       "</div>"
      ],
      "text/plain": [
       "        Country/Region      Fecha  Recuperados acumulados\n",
       "194155  United Kingdom 2022-09-13                      -1\n",
       "194356  United Kingdom 2022-09-14                      -1\n",
       "194557  United Kingdom 2022-09-15                      -1\n",
       "194758  United Kingdom 2022-09-16                      -1\n",
       "194959  United Kingdom 2022-09-17                      -1\n",
       "195160  United Kingdom 2022-09-18                      -1\n",
       "195361  United Kingdom 2022-09-19                      -1\n",
       "195562  United Kingdom 2022-09-20                      -1"
      ]
     },
     "execution_count": 15,
     "metadata": {},
     "output_type": "execute_result"
    }
   ],
   "source": [
    "anomalo = rg_despivotada[rg_despivotada['Recuperados acumulados'] == -1]\n",
    "anomalo"
   ]
  },
  {
   "cell_type": "code",
   "execution_count": 16,
   "id": "2b49ae8b",
   "metadata": {},
   "outputs": [
    {
     "data": {
      "text/html": [
       "<div>\n",
       "<style scoped>\n",
       "    .dataframe tbody tr th:only-of-type {\n",
       "        vertical-align: middle;\n",
       "    }\n",
       "\n",
       "    .dataframe tbody tr th {\n",
       "        vertical-align: top;\n",
       "    }\n",
       "\n",
       "    .dataframe thead th {\n",
       "        text-align: right;\n",
       "    }\n",
       "</style>\n",
       "<table border=\"1\" class=\"dataframe\">\n",
       "  <thead>\n",
       "    <tr style=\"text-align: right;\">\n",
       "      <th></th>\n",
       "      <th>Country/Region</th>\n",
       "      <th>Fecha</th>\n",
       "      <th>Recuperados acumulados</th>\n",
       "    </tr>\n",
       "  </thead>\n",
       "  <tbody>\n",
       "    <tr>\n",
       "      <th>193954</th>\n",
       "      <td>United Kingdom</td>\n",
       "      <td>2022-09-12</td>\n",
       "      <td>0</td>\n",
       "    </tr>\n",
       "  </tbody>\n",
       "</table>\n",
       "</div>"
      ],
      "text/plain": [
       "        Country/Region      Fecha  Recuperados acumulados\n",
       "193954  United Kingdom 2022-09-12                       0"
      ]
     },
     "execution_count": 16,
     "metadata": {},
     "output_type": "execute_result"
    }
   ],
   "source": [
    "dia_anterior = rg_despivotada[(rg_despivotada['Fecha'] == \"2022-09-12\") & (rg_despivotada['Country/Region'] == 'United Kingdom')]\n",
    "dia_anterior"
   ]
  },
  {
   "cell_type": "code",
   "execution_count": 17,
   "id": "c14fb109",
   "metadata": {},
   "outputs": [
    {
     "data": {
      "text/html": [
       "<div>\n",
       "<style scoped>\n",
       "    .dataframe tbody tr th:only-of-type {\n",
       "        vertical-align: middle;\n",
       "    }\n",
       "\n",
       "    .dataframe tbody tr th {\n",
       "        vertical-align: top;\n",
       "    }\n",
       "\n",
       "    .dataframe thead th {\n",
       "        text-align: right;\n",
       "    }\n",
       "</style>\n",
       "<table border=\"1\" class=\"dataframe\">\n",
       "  <thead>\n",
       "    <tr style=\"text-align: right;\">\n",
       "      <th></th>\n",
       "      <th>Country/Region</th>\n",
       "      <th>Fecha</th>\n",
       "      <th>Recuperados acumulados</th>\n",
       "    </tr>\n",
       "  </thead>\n",
       "  <tbody>\n",
       "    <tr>\n",
       "      <th>195763</th>\n",
       "      <td>United Kingdom</td>\n",
       "      <td>2022-09-21</td>\n",
       "      <td>0</td>\n",
       "    </tr>\n",
       "  </tbody>\n",
       "</table>\n",
       "</div>"
      ],
      "text/plain": [
       "        Country/Region      Fecha  Recuperados acumulados\n",
       "195763  United Kingdom 2022-09-21                       0"
      ]
     },
     "execution_count": 17,
     "metadata": {},
     "output_type": "execute_result"
    }
   ],
   "source": [
    "dia_posterior = rg_despivotada[(rg_despivotada['Fecha'] == \"2022-09-21\") & (rg_despivotada['Country/Region'] == 'United Kingdom')]\n",
    "dia_posterior"
   ]
  },
  {
   "cell_type": "markdown",
   "id": "cb0273c7",
   "metadata": {},
   "source": [
    "**Verificamos que no existen recuperados acumulados hasta la fecha, por lo que para los días anómalos el valor debiese ser 0. Simplemente reemplazaremos el dato:**"
   ]
  },
  {
   "cell_type": "code",
   "execution_count": 18,
   "id": "4e4ebb78",
   "metadata": {},
   "outputs": [
    {
     "data": {
      "text/plain": [
       "count    2.297430e+05\n",
       "mean     1.022510e+05\n",
       "std      8.201866e+05\n",
       "min      0.000000e+00\n",
       "25%      0.000000e+00\n",
       "50%      0.000000e+00\n",
       "75%      3.721500e+03\n",
       "max      3.097475e+07\n",
       "Name: Recuperados acumulados, dtype: float64"
      ]
     },
     "execution_count": 18,
     "metadata": {},
     "output_type": "execute_result"
    }
   ],
   "source": [
    "rg_despivotada = rg_despivotada.replace(-1,0)\n",
    "rg_despivotada['Recuperados acumulados'].describe()"
   ]
  },
  {
   "cell_type": "markdown",
   "id": "8524fbf7",
   "metadata": {},
   "source": [
    "**¿Cómo se observa la imagen por país al último día registrado?:**"
   ]
  },
  {
   "cell_type": "code",
   "execution_count": 19,
   "id": "d6a5dc73",
   "metadata": {},
   "outputs": [],
   "source": [
    "ultimo_dia_cg = cg_despivotada['Fecha'].max()\n",
    "df_ultimo_dia_cg = cg_despivotada[cg_despivotada['Fecha'] == ultimo_dia_cg]\n",
    "\n",
    "ultimo_dia_dg = dg_despivotada['Fecha'].max()\n",
    "df_ultimo_dia_dg = dg_despivotada[dg_despivotada['Fecha'] == ultimo_dia_dg]\n",
    "\n",
    "ultimo_dia_rg = rg_despivotada['Fecha'].max()\n",
    "df_ultimo_dia_rg = rg_despivotada[rg_despivotada['Fecha'] == ultimo_dia_rg]"
   ]
  },
  {
   "cell_type": "code",
   "execution_count": 20,
   "id": "ce0679d9",
   "metadata": {},
   "outputs": [
    {
     "data": {
      "text/html": [
       "<div>\n",
       "<style scoped>\n",
       "    .dataframe tbody tr th:only-of-type {\n",
       "        vertical-align: middle;\n",
       "    }\n",
       "\n",
       "    .dataframe tbody tr th {\n",
       "        vertical-align: top;\n",
       "    }\n",
       "\n",
       "    .dataframe thead th {\n",
       "        text-align: right;\n",
       "    }\n",
       "</style>\n",
       "<table border=\"1\" class=\"dataframe\">\n",
       "  <thead>\n",
       "    <tr style=\"text-align: right;\">\n",
       "      <th></th>\n",
       "      <th>Country/Region</th>\n",
       "      <th>Fecha</th>\n",
       "      <th>Confirmados acumulados</th>\n",
       "    </tr>\n",
       "  </thead>\n",
       "  <tbody>\n",
       "    <tr>\n",
       "      <th>229728</th>\n",
       "      <td>US</td>\n",
       "      <td>2023-03-09</td>\n",
       "      <td>103802702</td>\n",
       "    </tr>\n",
       "    <tr>\n",
       "      <th>229622</th>\n",
       "      <td>India</td>\n",
       "      <td>2023-03-09</td>\n",
       "      <td>44690738</td>\n",
       "    </tr>\n",
       "    <tr>\n",
       "      <th>229605</th>\n",
       "      <td>France</td>\n",
       "      <td>2023-03-09</td>\n",
       "      <td>39866718</td>\n",
       "    </tr>\n",
       "    <tr>\n",
       "      <th>229609</th>\n",
       "      <td>Germany</td>\n",
       "      <td>2023-03-09</td>\n",
       "      <td>38249060</td>\n",
       "    </tr>\n",
       "    <tr>\n",
       "      <th>229566</th>\n",
       "      <td>Brazil</td>\n",
       "      <td>2023-03-09</td>\n",
       "      <td>37076053</td>\n",
       "    </tr>\n",
       "    <tr>\n",
       "      <th>...</th>\n",
       "      <td>...</td>\n",
       "      <td>...</td>\n",
       "      <td>...</td>\n",
       "    </tr>\n",
       "    <tr>\n",
       "      <th>229739</th>\n",
       "      <td>Winter Olympics 2022</td>\n",
       "      <td>2023-03-09</td>\n",
       "      <td>535</td>\n",
       "    </tr>\n",
       "    <tr>\n",
       "      <th>229618</th>\n",
       "      <td>Holy See</td>\n",
       "      <td>2023-03-09</td>\n",
       "      <td>29</td>\n",
       "    </tr>\n",
       "    <tr>\n",
       "      <th>229547</th>\n",
       "      <td>Antarctica</td>\n",
       "      <td>2023-03-09</td>\n",
       "      <td>11</td>\n",
       "    </tr>\n",
       "    <tr>\n",
       "      <th>229649</th>\n",
       "      <td>MS Zaandam</td>\n",
       "      <td>2023-03-09</td>\n",
       "      <td>9</td>\n",
       "    </tr>\n",
       "    <tr>\n",
       "      <th>229635</th>\n",
       "      <td>Korea, North</td>\n",
       "      <td>2023-03-09</td>\n",
       "      <td>1</td>\n",
       "    </tr>\n",
       "  </tbody>\n",
       "</table>\n",
       "<p>201 rows × 3 columns</p>\n",
       "</div>"
      ],
      "text/plain": [
       "              Country/Region      Fecha  Confirmados acumulados\n",
       "229728                    US 2023-03-09               103802702\n",
       "229622                 India 2023-03-09                44690738\n",
       "229605                France 2023-03-09                39866718\n",
       "229609               Germany 2023-03-09                38249060\n",
       "229566                Brazil 2023-03-09                37076053\n",
       "...                      ...        ...                     ...\n",
       "229739  Winter Olympics 2022 2023-03-09                     535\n",
       "229618              Holy See 2023-03-09                      29\n",
       "229547            Antarctica 2023-03-09                      11\n",
       "229649            MS Zaandam 2023-03-09                       9\n",
       "229635          Korea, North 2023-03-09                       1\n",
       "\n",
       "[201 rows x 3 columns]"
      ]
     },
     "execution_count": 20,
     "metadata": {},
     "output_type": "execute_result"
    }
   ],
   "source": [
    "cg_ud = df_ultimo_dia_cg.sort_values(by='Confirmados acumulados', ascending=False)\n",
    "cg_ud"
   ]
  },
  {
   "cell_type": "code",
   "execution_count": 21,
   "id": "2cb0be5e",
   "metadata": {},
   "outputs": [
    {
     "data": {
      "text/plain": [
       "<AxesSubplot:xlabel='Confirmados acumulados', ylabel='Country/Region'>"
      ]
     },
     "execution_count": 21,
     "metadata": {},
     "output_type": "execute_result"
    },
    {
     "data": {
      "image/png": "[encoded data removed]",
      "text/plain": [
       "<Figure size 640x480 with 1 Axes>"
      ]
     },
     "metadata": {},
     "output_type": "display_data"
    }
   ],
   "source": [
    "sns.barplot(data=cg_ud.tail(15).sort_values(by='Confirmados acumulados', ascending=True), x='Confirmados acumulados', y='Country/Region',color='royalblue')"
   ]
  },
  {
   "cell_type": "code",
   "execution_count": 22,
   "id": "514572b2",
   "metadata": {},
   "outputs": [
    {
     "data": {
      "text/plain": [
       "<AxesSubplot:xlabel='Confirmados acumulados', ylabel='Country/Region'>"
      ]
     },
     "execution_count": 22,
     "metadata": {},
     "output_type": "execute_result"
    },
    {
     "data": {
      "image/png": "[encoded data removed]",
      "text/plain": [
       "<Figure size 640x480 with 1 Axes>"
      ]
     },
     "metadata": {},
     "output_type": "display_data"
    }
   ],
   "source": [
    "sns.barplot(data=cg_ud.head(15), x='Confirmados acumulados', y='Country/Region',color='royalblue')"
   ]
  },
  {
   "cell_type": "code",
   "execution_count": 23,
   "id": "db190428",
   "metadata": {},
   "outputs": [
    {
     "data": {
      "text/html": [
       "<div>\n",
       "<style scoped>\n",
       "    .dataframe tbody tr th:only-of-type {\n",
       "        vertical-align: middle;\n",
       "    }\n",
       "\n",
       "    .dataframe tbody tr th {\n",
       "        vertical-align: top;\n",
       "    }\n",
       "\n",
       "    .dataframe thead th {\n",
       "        text-align: right;\n",
       "    }\n",
       "</style>\n",
       "<table border=\"1\" class=\"dataframe\">\n",
       "  <thead>\n",
       "    <tr style=\"text-align: right;\">\n",
       "      <th></th>\n",
       "      <th>Country/Region</th>\n",
       "      <th>Fecha</th>\n",
       "      <th>Muertes acumuladas</th>\n",
       "    </tr>\n",
       "  </thead>\n",
       "  <tbody>\n",
       "    <tr>\n",
       "      <th>229728</th>\n",
       "      <td>US</td>\n",
       "      <td>2023-03-09</td>\n",
       "      <td>1123836</td>\n",
       "    </tr>\n",
       "    <tr>\n",
       "      <th>229566</th>\n",
       "      <td>Brazil</td>\n",
       "      <td>2023-03-09</td>\n",
       "      <td>699276</td>\n",
       "    </tr>\n",
       "    <tr>\n",
       "      <th>229622</th>\n",
       "      <td>India</td>\n",
       "      <td>2023-03-09</td>\n",
       "      <td>530779</td>\n",
       "    </tr>\n",
       "    <tr>\n",
       "      <th>229689</th>\n",
       "      <td>Russia</td>\n",
       "      <td>2023-03-09</td>\n",
       "      <td>388478</td>\n",
       "    </tr>\n",
       "    <tr>\n",
       "      <th>229659</th>\n",
       "      <td>Mexico</td>\n",
       "      <td>2023-03-09</td>\n",
       "      <td>333188</td>\n",
       "    </tr>\n",
       "    <tr>\n",
       "      <th>...</th>\n",
       "      <td>...</td>\n",
       "      <td>...</td>\n",
       "      <td>...</td>\n",
       "    </tr>\n",
       "    <tr>\n",
       "      <th>229712</th>\n",
       "      <td>Summer Olympics 2020</td>\n",
       "      <td>2023-03-09</td>\n",
       "      <td>0</td>\n",
       "    </tr>\n",
       "    <tr>\n",
       "      <th>229739</th>\n",
       "      <td>Winter Olympics 2022</td>\n",
       "      <td>2023-03-09</td>\n",
       "      <td>0</td>\n",
       "    </tr>\n",
       "    <tr>\n",
       "      <th>229547</th>\n",
       "      <td>Antarctica</td>\n",
       "      <td>2023-03-09</td>\n",
       "      <td>0</td>\n",
       "    </tr>\n",
       "    <tr>\n",
       "      <th>229727</th>\n",
       "      <td>Tuvalu</td>\n",
       "      <td>2023-03-09</td>\n",
       "      <td>0</td>\n",
       "    </tr>\n",
       "    <tr>\n",
       "      <th>229618</th>\n",
       "      <td>Holy See</td>\n",
       "      <td>2023-03-09</td>\n",
       "      <td>0</td>\n",
       "    </tr>\n",
       "  </tbody>\n",
       "</table>\n",
       "<p>201 rows × 3 columns</p>\n",
       "</div>"
      ],
      "text/plain": [
       "              Country/Region      Fecha  Muertes acumuladas\n",
       "229728                    US 2023-03-09             1123836\n",
       "229566                Brazil 2023-03-09              699276\n",
       "229622                 India 2023-03-09              530779\n",
       "229689                Russia 2023-03-09              388478\n",
       "229659                Mexico 2023-03-09              333188\n",
       "...                      ...        ...                 ...\n",
       "229712  Summer Olympics 2020 2023-03-09                   0\n",
       "229739  Winter Olympics 2022 2023-03-09                   0\n",
       "229547            Antarctica 2023-03-09                   0\n",
       "229727                Tuvalu 2023-03-09                   0\n",
       "229618              Holy See 2023-03-09                   0\n",
       "\n",
       "[201 rows x 3 columns]"
      ]
     },
     "execution_count": 23,
     "metadata": {},
     "output_type": "execute_result"
    }
   ],
   "source": [
    "dg_ud = df_ultimo_dia_dg.sort_values(by='Muertes acumuladas', ascending=False)\n",
    "dg_ud"
   ]
  },
  {
   "cell_type": "code",
   "execution_count": 24,
   "id": "7fa0e7ce",
   "metadata": {},
   "outputs": [
    {
     "data": {
      "text/plain": [
       "<AxesSubplot:xlabel='Muertes acumuladas', ylabel='Country/Region'>"
      ]
     },
     "execution_count": 24,
     "metadata": {},
     "output_type": "execute_result"
    },
    {
     "data": {
      "image/png": "[encoded data removed]",
      "text/plain": [
       "<Figure size 640x480 with 1 Axes>"
      ]
     },
     "metadata": {},
     "output_type": "display_data"
    }
   ],
   "source": [
    "sns.barplot(data=dg_ud.tail(15).sort_values(by='Muertes acumuladas', ascending=True), x='Muertes acumuladas', y='Country/Region',color='royalblue')"
   ]
  },
  {
   "cell_type": "code",
   "execution_count": 25,
   "id": "7b92230c",
   "metadata": {},
   "outputs": [
    {
     "data": {
      "text/plain": [
       "<AxesSubplot:xlabel='Muertes acumuladas', ylabel='Country/Region'>"
      ]
     },
     "execution_count": 25,
     "metadata": {},
     "output_type": "execute_result"
    },
    {
     "data": {
      "image/png": "[encoded data removed]",
      "text/plain": [
       "<Figure size 640x480 with 1 Axes>"
      ]
     },
     "metadata": {},
     "output_type": "display_data"
    }
   ],
   "source": [
    "sns.barplot(data=dg_ud.head(15), x='Muertes acumuladas', y='Country/Region',color='royalblue')"
   ]
  },
  {
   "cell_type": "code",
   "execution_count": 26,
   "id": "dd7c6435",
   "metadata": {},
   "outputs": [
    {
     "data": {
      "text/html": [
       "<div>\n",
       "<style scoped>\n",
       "    .dataframe tbody tr th:only-of-type {\n",
       "        vertical-align: middle;\n",
       "    }\n",
       "\n",
       "    .dataframe tbody tr th {\n",
       "        vertical-align: top;\n",
       "    }\n",
       "\n",
       "    .dataframe thead th {\n",
       "        text-align: right;\n",
       "    }\n",
       "</style>\n",
       "<table border=\"1\" class=\"dataframe\">\n",
       "  <thead>\n",
       "    <tr style=\"text-align: right;\">\n",
       "      <th></th>\n",
       "      <th>Country/Region</th>\n",
       "      <th>Fecha</th>\n",
       "      <th>Recuperados acumulados</th>\n",
       "    </tr>\n",
       "  </thead>\n",
       "  <tbody>\n",
       "    <tr>\n",
       "      <th>229542</th>\n",
       "      <td>Afghanistan</td>\n",
       "      <td>2023-03-09</td>\n",
       "      <td>0</td>\n",
       "    </tr>\n",
       "    <tr>\n",
       "      <th>229680</th>\n",
       "      <td>Panama</td>\n",
       "      <td>2023-03-09</td>\n",
       "      <td>0</td>\n",
       "    </tr>\n",
       "    <tr>\n",
       "      <th>229670</th>\n",
       "      <td>Netherlands</td>\n",
       "      <td>2023-03-09</td>\n",
       "      <td>0</td>\n",
       "    </tr>\n",
       "    <tr>\n",
       "      <th>229671</th>\n",
       "      <td>New Zealand</td>\n",
       "      <td>2023-03-09</td>\n",
       "      <td>0</td>\n",
       "    </tr>\n",
       "    <tr>\n",
       "      <th>229672</th>\n",
       "      <td>Nicaragua</td>\n",
       "      <td>2023-03-09</td>\n",
       "      <td>0</td>\n",
       "    </tr>\n",
       "    <tr>\n",
       "      <th>...</th>\n",
       "      <td>...</td>\n",
       "      <td>...</td>\n",
       "      <td>...</td>\n",
       "    </tr>\n",
       "    <tr>\n",
       "      <th>229612</th>\n",
       "      <td>Grenada</td>\n",
       "      <td>2023-03-09</td>\n",
       "      <td>0</td>\n",
       "    </tr>\n",
       "    <tr>\n",
       "      <th>229613</th>\n",
       "      <td>Guatemala</td>\n",
       "      <td>2023-03-09</td>\n",
       "      <td>0</td>\n",
       "    </tr>\n",
       "    <tr>\n",
       "      <th>229614</th>\n",
       "      <td>Guinea</td>\n",
       "      <td>2023-03-09</td>\n",
       "      <td>0</td>\n",
       "    </tr>\n",
       "    <tr>\n",
       "      <th>229615</th>\n",
       "      <td>Guinea-Bissau</td>\n",
       "      <td>2023-03-09</td>\n",
       "      <td>0</td>\n",
       "    </tr>\n",
       "    <tr>\n",
       "      <th>229742</th>\n",
       "      <td>Zimbabwe</td>\n",
       "      <td>2023-03-09</td>\n",
       "      <td>0</td>\n",
       "    </tr>\n",
       "  </tbody>\n",
       "</table>\n",
       "<p>201 rows × 3 columns</p>\n",
       "</div>"
      ],
      "text/plain": [
       "       Country/Region      Fecha  Recuperados acumulados\n",
       "229542    Afghanistan 2023-03-09                       0\n",
       "229680         Panama 2023-03-09                       0\n",
       "229670    Netherlands 2023-03-09                       0\n",
       "229671    New Zealand 2023-03-09                       0\n",
       "229672      Nicaragua 2023-03-09                       0\n",
       "...               ...        ...                     ...\n",
       "229612        Grenada 2023-03-09                       0\n",
       "229613      Guatemala 2023-03-09                       0\n",
       "229614         Guinea 2023-03-09                       0\n",
       "229615  Guinea-Bissau 2023-03-09                       0\n",
       "229742       Zimbabwe 2023-03-09                       0\n",
       "\n",
       "[201 rows x 3 columns]"
      ]
     },
     "execution_count": 26,
     "metadata": {},
     "output_type": "execute_result"
    }
   ],
   "source": [
    "df_ultimo_dia_rg.sort_values(by='Recuperados acumulados', ascending=False)"
   ]
  },
  {
   "cell_type": "markdown",
   "id": "edac29db",
   "metadata": {},
   "source": [
    "**Observamos un grave problema que no fue detectado anteriormente: La base de datos para el día 2023-03-09 no encuentra el volumen de recuperados acumulados.\n",
    "Es altamente probable que en algún momento no se hayan guardado más registros, por lo que tenemos que buscar en qué momento se dejó de registrar esta cifra. Esto podemos lograrlo identificando la distribución por fecha.**\n",
    "\n",
    "- Adicionalmente, en las bases detectamos que hay países que no corresponden a países como tal (Ej. Winter Olympics 2022), pero es más fácil descartarlos luego de unificar las bases. "
   ]
  },
  {
   "cell_type": "code",
   "execution_count": 27,
   "id": "75d92834",
   "metadata": {},
   "outputs": [
    {
     "data": {
      "text/html": [
       "<div>\n",
       "<style scoped>\n",
       "    .dataframe tbody tr th:only-of-type {\n",
       "        vertical-align: middle;\n",
       "    }\n",
       "\n",
       "    .dataframe tbody tr th {\n",
       "        vertical-align: top;\n",
       "    }\n",
       "\n",
       "    .dataframe thead th {\n",
       "        text-align: right;\n",
       "    }\n",
       "</style>\n",
       "<table border=\"1\" class=\"dataframe\">\n",
       "  <thead>\n",
       "    <tr style=\"text-align: right;\">\n",
       "      <th></th>\n",
       "      <th>Fecha</th>\n",
       "      <th>Recuperados acumulados</th>\n",
       "    </tr>\n",
       "  </thead>\n",
       "  <tbody>\n",
       "    <tr>\n",
       "      <th>0</th>\n",
       "      <td>2020-01-22</td>\n",
       "      <td>30</td>\n",
       "    </tr>\n",
       "    <tr>\n",
       "      <th>1</th>\n",
       "      <td>2020-01-23</td>\n",
       "      <td>32</td>\n",
       "    </tr>\n",
       "    <tr>\n",
       "      <th>2</th>\n",
       "      <td>2020-01-24</td>\n",
       "      <td>39</td>\n",
       "    </tr>\n",
       "    <tr>\n",
       "      <th>3</th>\n",
       "      <td>2020-01-25</td>\n",
       "      <td>42</td>\n",
       "    </tr>\n",
       "    <tr>\n",
       "      <th>4</th>\n",
       "      <td>2020-01-26</td>\n",
       "      <td>56</td>\n",
       "    </tr>\n",
       "    <tr>\n",
       "      <th>...</th>\n",
       "      <td>...</td>\n",
       "      <td>...</td>\n",
       "    </tr>\n",
       "    <tr>\n",
       "      <th>1138</th>\n",
       "      <td>2023-03-05</td>\n",
       "      <td>0</td>\n",
       "    </tr>\n",
       "    <tr>\n",
       "      <th>1139</th>\n",
       "      <td>2023-03-06</td>\n",
       "      <td>0</td>\n",
       "    </tr>\n",
       "    <tr>\n",
       "      <th>1140</th>\n",
       "      <td>2023-03-07</td>\n",
       "      <td>0</td>\n",
       "    </tr>\n",
       "    <tr>\n",
       "      <th>1141</th>\n",
       "      <td>2023-03-08</td>\n",
       "      <td>0</td>\n",
       "    </tr>\n",
       "    <tr>\n",
       "      <th>1142</th>\n",
       "      <td>2023-03-09</td>\n",
       "      <td>0</td>\n",
       "    </tr>\n",
       "  </tbody>\n",
       "</table>\n",
       "<p>1143 rows × 2 columns</p>\n",
       "</div>"
      ],
      "text/plain": [
       "          Fecha  Recuperados acumulados\n",
       "0    2020-01-22                      30\n",
       "1    2020-01-23                      32\n",
       "2    2020-01-24                      39\n",
       "3    2020-01-25                      42\n",
       "4    2020-01-26                      56\n",
       "...         ...                     ...\n",
       "1138 2023-03-05                       0\n",
       "1139 2023-03-06                       0\n",
       "1140 2023-03-07                       0\n",
       "1141 2023-03-08                       0\n",
       "1142 2023-03-09                       0\n",
       "\n",
       "[1143 rows x 2 columns]"
      ]
     },
     "execution_count": 27,
     "metadata": {},
     "output_type": "execute_result"
    }
   ],
   "source": [
    "rg_agrupada = rg_despivotada.groupby('Fecha')['Recuperados acumulados'].sum().reset_index()\n",
    "rg_agrupada"
   ]
  },
  {
   "cell_type": "code",
   "execution_count": 28,
   "id": "53c8eaa2",
   "metadata": {},
   "outputs": [
    {
     "data": {
      "text/plain": [
       "130899061"
      ]
     },
     "execution_count": 28,
     "metadata": {},
     "output_type": "execute_result"
    }
   ],
   "source": [
    "maximo = rg_agrupada['Recuperados acumulados'].max()\n",
    "maximo"
   ]
  },
  {
   "cell_type": "code",
   "execution_count": 29,
   "id": "c44cd7d1",
   "metadata": {},
   "outputs": [
    {
     "data": {
      "text/html": [
       "<div>\n",
       "<style scoped>\n",
       "    .dataframe tbody tr th:only-of-type {\n",
       "        vertical-align: middle;\n",
       "    }\n",
       "\n",
       "    .dataframe tbody tr th {\n",
       "        vertical-align: top;\n",
       "    }\n",
       "\n",
       "    .dataframe thead th {\n",
       "        text-align: right;\n",
       "    }\n",
       "</style>\n",
       "<table border=\"1\" class=\"dataframe\">\n",
       "  <thead>\n",
       "    <tr style=\"text-align: right;\">\n",
       "      <th></th>\n",
       "      <th>Fecha</th>\n",
       "      <th>Recuperados acumulados</th>\n",
       "    </tr>\n",
       "  </thead>\n",
       "  <tbody>\n",
       "    <tr>\n",
       "      <th>560</th>\n",
       "      <td>2021-08-04</td>\n",
       "      <td>130899061</td>\n",
       "    </tr>\n",
       "  </tbody>\n",
       "</table>\n",
       "</div>"
      ],
      "text/plain": [
       "         Fecha  Recuperados acumulados\n",
       "560 2021-08-04               130899061"
      ]
     },
     "execution_count": 29,
     "metadata": {},
     "output_type": "execute_result"
    }
   ],
   "source": [
    "rg_agrupada[rg_agrupada['Recuperados acumulados'] == maximo]"
   ]
  },
  {
   "cell_type": "code",
   "execution_count": 30,
   "id": "ef0933cd",
   "metadata": {},
   "outputs": [
    {
     "data": {
      "text/html": [
       "<div>\n",
       "<style scoped>\n",
       "    .dataframe tbody tr th:only-of-type {\n",
       "        vertical-align: middle;\n",
       "    }\n",
       "\n",
       "    .dataframe tbody tr th {\n",
       "        vertical-align: top;\n",
       "    }\n",
       "\n",
       "    .dataframe thead th {\n",
       "        text-align: right;\n",
       "    }\n",
       "</style>\n",
       "<table border=\"1\" class=\"dataframe\">\n",
       "  <thead>\n",
       "    <tr style=\"text-align: right;\">\n",
       "      <th></th>\n",
       "      <th>Fecha</th>\n",
       "      <th>Recuperados acumulados</th>\n",
       "    </tr>\n",
       "  </thead>\n",
       "  <tbody>\n",
       "    <tr>\n",
       "      <th>558</th>\n",
       "      <td>2021-08-02</td>\n",
       "      <td>130277533</td>\n",
       "    </tr>\n",
       "    <tr>\n",
       "      <th>559</th>\n",
       "      <td>2021-08-03</td>\n",
       "      <td>130582001</td>\n",
       "    </tr>\n",
       "    <tr>\n",
       "      <th>560</th>\n",
       "      <td>2021-08-04</td>\n",
       "      <td>130899061</td>\n",
       "    </tr>\n",
       "    <tr>\n",
       "      <th>561</th>\n",
       "      <td>2021-08-05</td>\n",
       "      <td>0</td>\n",
       "    </tr>\n",
       "    <tr>\n",
       "      <th>562</th>\n",
       "      <td>2021-08-06</td>\n",
       "      <td>0</td>\n",
       "    </tr>\n",
       "    <tr>\n",
       "      <th>563</th>\n",
       "      <td>2021-08-07</td>\n",
       "      <td>0</td>\n",
       "    </tr>\n",
       "    <tr>\n",
       "      <th>564</th>\n",
       "      <td>2021-08-08</td>\n",
       "      <td>0</td>\n",
       "    </tr>\n",
       "    <tr>\n",
       "      <th>565</th>\n",
       "      <td>2021-08-09</td>\n",
       "      <td>0</td>\n",
       "    </tr>\n",
       "  </tbody>\n",
       "</table>\n",
       "</div>"
      ],
      "text/plain": [
       "         Fecha  Recuperados acumulados\n",
       "558 2021-08-02               130277533\n",
       "559 2021-08-03               130582001\n",
       "560 2021-08-04               130899061\n",
       "561 2021-08-05                       0\n",
       "562 2021-08-06                       0\n",
       "563 2021-08-07                       0\n",
       "564 2021-08-08                       0\n",
       "565 2021-08-09                       0"
      ]
     },
     "execution_count": 30,
     "metadata": {},
     "output_type": "execute_result"
    }
   ],
   "source": [
    "rg_agrupada[(rg_agrupada['Fecha'] > \"2021-08-01\") & (rg_agrupada['Fecha'] < \"2021-08-10\")]"
   ]
  },
  {
   "cell_type": "code",
   "execution_count": 31,
   "id": "9ee1e107",
   "metadata": {},
   "outputs": [
    {
     "data": {
      "text/plain": [
       "<AxesSubplot:xlabel='Fecha', ylabel='Recuperados acumulados'>"
      ]
     },
     "execution_count": 31,
     "metadata": {},
     "output_type": "execute_result"
    },
    {
     "data": {
      "image/png": "[encoded data removed]",
      "text/plain": [
       "<Figure size 1000x600 with 1 Axes>"
      ]
     },
     "metadata": {},
     "output_type": "display_data"
    }
   ],
   "source": [
    "plt.figure(figsize=(10, 6))\n",
    "sns.lineplot(data=rg_agrupada, x='Fecha', y='Recuperados acumulados', linestyle='-')"
   ]
  },
  {
   "cell_type": "markdown",
   "id": "f6f7c540",
   "metadata": {},
   "source": [
    "**Identificamos que a partir del 2021-08-04 se dejó de registrar información para los casos recuperados. Lamentablemente esto supera lo que un analista puede hacer por su cuenta, dado que hay un claro problema en la forma de registrar la data. Lo que haremos posteriormente será, al menos, mantener la información de la data acumulada para los días posteriores al 2021-08-04. Sin embargo, será mucho más fácil hacerlo a través de la sumatoria de los casos diarios que añadiremos como variable.**"
   ]
  },
  {
   "cell_type": "markdown",
   "id": "6172d328",
   "metadata": {},
   "source": [
    "**Ahora procederemos a consolidar las bases en una sola tabla:**"
   ]
  },
  {
   "cell_type": "code",
   "execution_count": 32,
   "id": "8475dc19",
   "metadata": {},
   "outputs": [
    {
     "data": {
      "text/html": [
       "<div>\n",
       "<style scoped>\n",
       "    .dataframe tbody tr th:only-of-type {\n",
       "        vertical-align: middle;\n",
       "    }\n",
       "\n",
       "    .dataframe tbody tr th {\n",
       "        vertical-align: top;\n",
       "    }\n",
       "\n",
       "    .dataframe thead th {\n",
       "        text-align: right;\n",
       "    }\n",
       "</style>\n",
       "<table border=\"1\" class=\"dataframe\">\n",
       "  <thead>\n",
       "    <tr style=\"text-align: right;\">\n",
       "      <th></th>\n",
       "      <th>Country/Region</th>\n",
       "      <th>Fecha</th>\n",
       "      <th>Confirmados acumulados</th>\n",
       "      <th>Muertes acumuladas</th>\n",
       "    </tr>\n",
       "  </thead>\n",
       "  <tbody>\n",
       "    <tr>\n",
       "      <th>0</th>\n",
       "      <td>Afghanistan</td>\n",
       "      <td>2020-01-22</td>\n",
       "      <td>0</td>\n",
       "      <td>0</td>\n",
       "    </tr>\n",
       "    <tr>\n",
       "      <th>1</th>\n",
       "      <td>Albania</td>\n",
       "      <td>2020-01-22</td>\n",
       "      <td>0</td>\n",
       "      <td>0</td>\n",
       "    </tr>\n",
       "    <tr>\n",
       "      <th>2</th>\n",
       "      <td>Algeria</td>\n",
       "      <td>2020-01-22</td>\n",
       "      <td>0</td>\n",
       "      <td>0</td>\n",
       "    </tr>\n",
       "    <tr>\n",
       "      <th>3</th>\n",
       "      <td>Andorra</td>\n",
       "      <td>2020-01-22</td>\n",
       "      <td>0</td>\n",
       "      <td>0</td>\n",
       "    </tr>\n",
       "    <tr>\n",
       "      <th>4</th>\n",
       "      <td>Angola</td>\n",
       "      <td>2020-01-22</td>\n",
       "      <td>0</td>\n",
       "      <td>0</td>\n",
       "    </tr>\n",
       "    <tr>\n",
       "      <th>...</th>\n",
       "      <td>...</td>\n",
       "      <td>...</td>\n",
       "      <td>...</td>\n",
       "      <td>...</td>\n",
       "    </tr>\n",
       "    <tr>\n",
       "      <th>229738</th>\n",
       "      <td>West Bank and Gaza</td>\n",
       "      <td>2023-03-09</td>\n",
       "      <td>703228</td>\n",
       "      <td>5708</td>\n",
       "    </tr>\n",
       "    <tr>\n",
       "      <th>229739</th>\n",
       "      <td>Winter Olympics 2022</td>\n",
       "      <td>2023-03-09</td>\n",
       "      <td>535</td>\n",
       "      <td>0</td>\n",
       "    </tr>\n",
       "    <tr>\n",
       "      <th>229740</th>\n",
       "      <td>Yemen</td>\n",
       "      <td>2023-03-09</td>\n",
       "      <td>11945</td>\n",
       "      <td>2159</td>\n",
       "    </tr>\n",
       "    <tr>\n",
       "      <th>229741</th>\n",
       "      <td>Zambia</td>\n",
       "      <td>2023-03-09</td>\n",
       "      <td>343135</td>\n",
       "      <td>4057</td>\n",
       "    </tr>\n",
       "    <tr>\n",
       "      <th>229742</th>\n",
       "      <td>Zimbabwe</td>\n",
       "      <td>2023-03-09</td>\n",
       "      <td>264276</td>\n",
       "      <td>5671</td>\n",
       "    </tr>\n",
       "  </tbody>\n",
       "</table>\n",
       "<p>229743 rows × 4 columns</p>\n",
       "</div>"
      ],
      "text/plain": [
       "              Country/Region      Fecha  Confirmados acumulados  \\\n",
       "0                Afghanistan 2020-01-22                       0   \n",
       "1                    Albania 2020-01-22                       0   \n",
       "2                    Algeria 2020-01-22                       0   \n",
       "3                    Andorra 2020-01-22                       0   \n",
       "4                     Angola 2020-01-22                       0   \n",
       "...                      ...        ...                     ...   \n",
       "229738    West Bank and Gaza 2023-03-09                  703228   \n",
       "229739  Winter Olympics 2022 2023-03-09                     535   \n",
       "229740                 Yemen 2023-03-09                   11945   \n",
       "229741                Zambia 2023-03-09                  343135   \n",
       "229742              Zimbabwe 2023-03-09                  264276   \n",
       "\n",
       "        Muertes acumuladas  \n",
       "0                        0  \n",
       "1                        0  \n",
       "2                        0  \n",
       "3                        0  \n",
       "4                        0  \n",
       "...                    ...  \n",
       "229738                5708  \n",
       "229739                   0  \n",
       "229740                2159  \n",
       "229741                4057  \n",
       "229742                5671  \n",
       "\n",
       "[229743 rows x 4 columns]"
      ]
     },
     "execution_count": 32,
     "metadata": {},
     "output_type": "execute_result"
    }
   ],
   "source": [
    "df = pd.merge(cg_despivotada, dg_despivotada, on=['Fecha','Country/Region'], how='outer')\n",
    "df"
   ]
  },
  {
   "cell_type": "code",
   "execution_count": 33,
   "id": "cc84e542",
   "metadata": {},
   "outputs": [
    {
     "data": {
      "text/html": [
       "<div>\n",
       "<style scoped>\n",
       "    .dataframe tbody tr th:only-of-type {\n",
       "        vertical-align: middle;\n",
       "    }\n",
       "\n",
       "    .dataframe tbody tr th {\n",
       "        vertical-align: top;\n",
       "    }\n",
       "\n",
       "    .dataframe thead th {\n",
       "        text-align: right;\n",
       "    }\n",
       "</style>\n",
       "<table border=\"1\" class=\"dataframe\">\n",
       "  <thead>\n",
       "    <tr style=\"text-align: right;\">\n",
       "      <th></th>\n",
       "      <th>Country/Region</th>\n",
       "      <th>Fecha</th>\n",
       "      <th>Confirmados acumulados</th>\n",
       "      <th>Muertes acumuladas</th>\n",
       "      <th>Recuperados acumulados</th>\n",
       "    </tr>\n",
       "  </thead>\n",
       "  <tbody>\n",
       "    <tr>\n",
       "      <th>0</th>\n",
       "      <td>Afghanistan</td>\n",
       "      <td>2020-01-22</td>\n",
       "      <td>0</td>\n",
       "      <td>0</td>\n",
       "      <td>0</td>\n",
       "    </tr>\n",
       "    <tr>\n",
       "      <th>1</th>\n",
       "      <td>Albania</td>\n",
       "      <td>2020-01-22</td>\n",
       "      <td>0</td>\n",
       "      <td>0</td>\n",
       "      <td>0</td>\n",
       "    </tr>\n",
       "    <tr>\n",
       "      <th>2</th>\n",
       "      <td>Algeria</td>\n",
       "      <td>2020-01-22</td>\n",
       "      <td>0</td>\n",
       "      <td>0</td>\n",
       "      <td>0</td>\n",
       "    </tr>\n",
       "    <tr>\n",
       "      <th>3</th>\n",
       "      <td>Andorra</td>\n",
       "      <td>2020-01-22</td>\n",
       "      <td>0</td>\n",
       "      <td>0</td>\n",
       "      <td>0</td>\n",
       "    </tr>\n",
       "    <tr>\n",
       "      <th>4</th>\n",
       "      <td>Angola</td>\n",
       "      <td>2020-01-22</td>\n",
       "      <td>0</td>\n",
       "      <td>0</td>\n",
       "      <td>0</td>\n",
       "    </tr>\n",
       "    <tr>\n",
       "      <th>...</th>\n",
       "      <td>...</td>\n",
       "      <td>...</td>\n",
       "      <td>...</td>\n",
       "      <td>...</td>\n",
       "      <td>...</td>\n",
       "    </tr>\n",
       "    <tr>\n",
       "      <th>229738</th>\n",
       "      <td>West Bank and Gaza</td>\n",
       "      <td>2023-03-09</td>\n",
       "      <td>703228</td>\n",
       "      <td>5708</td>\n",
       "      <td>0</td>\n",
       "    </tr>\n",
       "    <tr>\n",
       "      <th>229739</th>\n",
       "      <td>Winter Olympics 2022</td>\n",
       "      <td>2023-03-09</td>\n",
       "      <td>535</td>\n",
       "      <td>0</td>\n",
       "      <td>0</td>\n",
       "    </tr>\n",
       "    <tr>\n",
       "      <th>229740</th>\n",
       "      <td>Yemen</td>\n",
       "      <td>2023-03-09</td>\n",
       "      <td>11945</td>\n",
       "      <td>2159</td>\n",
       "      <td>0</td>\n",
       "    </tr>\n",
       "    <tr>\n",
       "      <th>229741</th>\n",
       "      <td>Zambia</td>\n",
       "      <td>2023-03-09</td>\n",
       "      <td>343135</td>\n",
       "      <td>4057</td>\n",
       "      <td>0</td>\n",
       "    </tr>\n",
       "    <tr>\n",
       "      <th>229742</th>\n",
       "      <td>Zimbabwe</td>\n",
       "      <td>2023-03-09</td>\n",
       "      <td>264276</td>\n",
       "      <td>5671</td>\n",
       "      <td>0</td>\n",
       "    </tr>\n",
       "  </tbody>\n",
       "</table>\n",
       "<p>229743 rows × 5 columns</p>\n",
       "</div>"
      ],
      "text/plain": [
       "              Country/Region      Fecha  Confirmados acumulados  \\\n",
       "0                Afghanistan 2020-01-22                       0   \n",
       "1                    Albania 2020-01-22                       0   \n",
       "2                    Algeria 2020-01-22                       0   \n",
       "3                    Andorra 2020-01-22                       0   \n",
       "4                     Angola 2020-01-22                       0   \n",
       "...                      ...        ...                     ...   \n",
       "229738    West Bank and Gaza 2023-03-09                  703228   \n",
       "229739  Winter Olympics 2022 2023-03-09                     535   \n",
       "229740                 Yemen 2023-03-09                   11945   \n",
       "229741                Zambia 2023-03-09                  343135   \n",
       "229742              Zimbabwe 2023-03-09                  264276   \n",
       "\n",
       "        Muertes acumuladas  Recuperados acumulados  \n",
       "0                        0                       0  \n",
       "1                        0                       0  \n",
       "2                        0                       0  \n",
       "3                        0                       0  \n",
       "4                        0                       0  \n",
       "...                    ...                     ...  \n",
       "229738                5708                       0  \n",
       "229739                   0                       0  \n",
       "229740                2159                       0  \n",
       "229741                4057                       0  \n",
       "229742                5671                       0  \n",
       "\n",
       "[229743 rows x 5 columns]"
      ]
     },
     "execution_count": 33,
     "metadata": {},
     "output_type": "execute_result"
    }
   ],
   "source": [
    "df = pd.merge(df, rg_despivotada, on=['Fecha','Country/Region'], how='outer')\n",
    "df"
   ]
  },
  {
   "cell_type": "markdown",
   "id": "4016a3b5",
   "metadata": {},
   "source": [
    "**Eliminamos los casos que no son países, tal y como mencionamos anteriormente:**"
   ]
  },
  {
   "cell_type": "code",
   "execution_count": 34,
   "id": "4243e99a",
   "metadata": {},
   "outputs": [
    {
     "data": {
      "text/html": [
       "<div>\n",
       "<style scoped>\n",
       "    .dataframe tbody tr th:only-of-type {\n",
       "        vertical-align: middle;\n",
       "    }\n",
       "\n",
       "    .dataframe tbody tr th {\n",
       "        vertical-align: top;\n",
       "    }\n",
       "\n",
       "    .dataframe thead th {\n",
       "        text-align: right;\n",
       "    }\n",
       "</style>\n",
       "<table border=\"1\" class=\"dataframe\">\n",
       "  <thead>\n",
       "    <tr style=\"text-align: right;\">\n",
       "      <th></th>\n",
       "      <th>Country/Region</th>\n",
       "      <th>Fecha</th>\n",
       "      <th>Confirmados acumulados</th>\n",
       "      <th>Muertes acumuladas</th>\n",
       "      <th>Recuperados acumulados</th>\n",
       "    </tr>\n",
       "  </thead>\n",
       "  <tbody>\n",
       "    <tr>\n",
       "      <th>0</th>\n",
       "      <td>Afghanistan</td>\n",
       "      <td>2020-01-22</td>\n",
       "      <td>0</td>\n",
       "      <td>0</td>\n",
       "      <td>0</td>\n",
       "    </tr>\n",
       "    <tr>\n",
       "      <th>1</th>\n",
       "      <td>Albania</td>\n",
       "      <td>2020-01-22</td>\n",
       "      <td>0</td>\n",
       "      <td>0</td>\n",
       "      <td>0</td>\n",
       "    </tr>\n",
       "    <tr>\n",
       "      <th>2</th>\n",
       "      <td>Algeria</td>\n",
       "      <td>2020-01-22</td>\n",
       "      <td>0</td>\n",
       "      <td>0</td>\n",
       "      <td>0</td>\n",
       "    </tr>\n",
       "    <tr>\n",
       "      <th>3</th>\n",
       "      <td>Andorra</td>\n",
       "      <td>2020-01-22</td>\n",
       "      <td>0</td>\n",
       "      <td>0</td>\n",
       "      <td>0</td>\n",
       "    </tr>\n",
       "    <tr>\n",
       "      <th>4</th>\n",
       "      <td>Angola</td>\n",
       "      <td>2020-01-22</td>\n",
       "      <td>0</td>\n",
       "      <td>0</td>\n",
       "      <td>0</td>\n",
       "    </tr>\n",
       "    <tr>\n",
       "      <th>...</th>\n",
       "      <td>...</td>\n",
       "      <td>...</td>\n",
       "      <td>...</td>\n",
       "      <td>...</td>\n",
       "      <td>...</td>\n",
       "    </tr>\n",
       "    <tr>\n",
       "      <th>229737</th>\n",
       "      <td>Vietnam</td>\n",
       "      <td>2023-03-09</td>\n",
       "      <td>11526994</td>\n",
       "      <td>43186</td>\n",
       "      <td>0</td>\n",
       "    </tr>\n",
       "    <tr>\n",
       "      <th>229738</th>\n",
       "      <td>West Bank and Gaza</td>\n",
       "      <td>2023-03-09</td>\n",
       "      <td>703228</td>\n",
       "      <td>5708</td>\n",
       "      <td>0</td>\n",
       "    </tr>\n",
       "    <tr>\n",
       "      <th>229740</th>\n",
       "      <td>Yemen</td>\n",
       "      <td>2023-03-09</td>\n",
       "      <td>11945</td>\n",
       "      <td>2159</td>\n",
       "      <td>0</td>\n",
       "    </tr>\n",
       "    <tr>\n",
       "      <th>229741</th>\n",
       "      <td>Zambia</td>\n",
       "      <td>2023-03-09</td>\n",
       "      <td>343135</td>\n",
       "      <td>4057</td>\n",
       "      <td>0</td>\n",
       "    </tr>\n",
       "    <tr>\n",
       "      <th>229742</th>\n",
       "      <td>Zimbabwe</td>\n",
       "      <td>2023-03-09</td>\n",
       "      <td>264276</td>\n",
       "      <td>5671</td>\n",
       "      <td>0</td>\n",
       "    </tr>\n",
       "  </tbody>\n",
       "</table>\n",
       "<p>225171 rows × 5 columns</p>\n",
       "</div>"
      ],
      "text/plain": [
       "            Country/Region      Fecha  Confirmados acumulados  \\\n",
       "0              Afghanistan 2020-01-22                       0   \n",
       "1                  Albania 2020-01-22                       0   \n",
       "2                  Algeria 2020-01-22                       0   \n",
       "3                  Andorra 2020-01-22                       0   \n",
       "4                   Angola 2020-01-22                       0   \n",
       "...                    ...        ...                     ...   \n",
       "229737             Vietnam 2023-03-09                11526994   \n",
       "229738  West Bank and Gaza 2023-03-09                  703228   \n",
       "229740               Yemen 2023-03-09                   11945   \n",
       "229741              Zambia 2023-03-09                  343135   \n",
       "229742            Zimbabwe 2023-03-09                  264276   \n",
       "\n",
       "        Muertes acumuladas  Recuperados acumulados  \n",
       "0                        0                       0  \n",
       "1                        0                       0  \n",
       "2                        0                       0  \n",
       "3                        0                       0  \n",
       "4                        0                       0  \n",
       "...                    ...                     ...  \n",
       "229737               43186                       0  \n",
       "229738                5708                       0  \n",
       "229740                2159                       0  \n",
       "229741                4057                       0  \n",
       "229742                5671                       0  \n",
       "\n",
       "[225171 rows x 5 columns]"
      ]
     },
     "execution_count": 34,
     "metadata": {},
     "output_type": "execute_result"
    }
   ],
   "source": [
    "df = df[~df['Country/Region'].str.contains('Olympics')]\n",
    "df = df[~df['Country/Region'].str.contains('MS Zaandam')]\n",
    "df = df[~df['Country/Region'].str.contains('Diamond Princess')]\n",
    "df"
   ]
  },
  {
   "cell_type": "markdown",
   "id": "5e6c76e2",
   "metadata": {},
   "source": [
    "**Renombramos la variable 'Country/Region' a 'País':**"
   ]
  },
  {
   "cell_type": "code",
   "execution_count": 35,
   "id": "2bd3bfa9",
   "metadata": {},
   "outputs": [
    {
     "data": {
      "text/html": [
       "<div>\n",
       "<style scoped>\n",
       "    .dataframe tbody tr th:only-of-type {\n",
       "        vertical-align: middle;\n",
       "    }\n",
       "\n",
       "    .dataframe tbody tr th {\n",
       "        vertical-align: top;\n",
       "    }\n",
       "\n",
       "    .dataframe thead th {\n",
       "        text-align: right;\n",
       "    }\n",
       "</style>\n",
       "<table border=\"1\" class=\"dataframe\">\n",
       "  <thead>\n",
       "    <tr style=\"text-align: right;\">\n",
       "      <th></th>\n",
       "      <th>País</th>\n",
       "      <th>Fecha</th>\n",
       "      <th>Confirmados acumulados</th>\n",
       "      <th>Muertes acumuladas</th>\n",
       "      <th>Recuperados acumulados</th>\n",
       "    </tr>\n",
       "  </thead>\n",
       "  <tbody>\n",
       "    <tr>\n",
       "      <th>0</th>\n",
       "      <td>Afghanistan</td>\n",
       "      <td>2020-01-22</td>\n",
       "      <td>0</td>\n",
       "      <td>0</td>\n",
       "      <td>0</td>\n",
       "    </tr>\n",
       "    <tr>\n",
       "      <th>1</th>\n",
       "      <td>Albania</td>\n",
       "      <td>2020-01-22</td>\n",
       "      <td>0</td>\n",
       "      <td>0</td>\n",
       "      <td>0</td>\n",
       "    </tr>\n",
       "    <tr>\n",
       "      <th>2</th>\n",
       "      <td>Algeria</td>\n",
       "      <td>2020-01-22</td>\n",
       "      <td>0</td>\n",
       "      <td>0</td>\n",
       "      <td>0</td>\n",
       "    </tr>\n",
       "    <tr>\n",
       "      <th>3</th>\n",
       "      <td>Andorra</td>\n",
       "      <td>2020-01-22</td>\n",
       "      <td>0</td>\n",
       "      <td>0</td>\n",
       "      <td>0</td>\n",
       "    </tr>\n",
       "    <tr>\n",
       "      <th>4</th>\n",
       "      <td>Angola</td>\n",
       "      <td>2020-01-22</td>\n",
       "      <td>0</td>\n",
       "      <td>0</td>\n",
       "      <td>0</td>\n",
       "    </tr>\n",
       "    <tr>\n",
       "      <th>...</th>\n",
       "      <td>...</td>\n",
       "      <td>...</td>\n",
       "      <td>...</td>\n",
       "      <td>...</td>\n",
       "      <td>...</td>\n",
       "    </tr>\n",
       "    <tr>\n",
       "      <th>229737</th>\n",
       "      <td>Vietnam</td>\n",
       "      <td>2023-03-09</td>\n",
       "      <td>11526994</td>\n",
       "      <td>43186</td>\n",
       "      <td>0</td>\n",
       "    </tr>\n",
       "    <tr>\n",
       "      <th>229738</th>\n",
       "      <td>West Bank and Gaza</td>\n",
       "      <td>2023-03-09</td>\n",
       "      <td>703228</td>\n",
       "      <td>5708</td>\n",
       "      <td>0</td>\n",
       "    </tr>\n",
       "    <tr>\n",
       "      <th>229740</th>\n",
       "      <td>Yemen</td>\n",
       "      <td>2023-03-09</td>\n",
       "      <td>11945</td>\n",
       "      <td>2159</td>\n",
       "      <td>0</td>\n",
       "    </tr>\n",
       "    <tr>\n",
       "      <th>229741</th>\n",
       "      <td>Zambia</td>\n",
       "      <td>2023-03-09</td>\n",
       "      <td>343135</td>\n",
       "      <td>4057</td>\n",
       "      <td>0</td>\n",
       "    </tr>\n",
       "    <tr>\n",
       "      <th>229742</th>\n",
       "      <td>Zimbabwe</td>\n",
       "      <td>2023-03-09</td>\n",
       "      <td>264276</td>\n",
       "      <td>5671</td>\n",
       "      <td>0</td>\n",
       "    </tr>\n",
       "  </tbody>\n",
       "</table>\n",
       "<p>225171 rows × 5 columns</p>\n",
       "</div>"
      ],
      "text/plain": [
       "                      País      Fecha  Confirmados acumulados  \\\n",
       "0              Afghanistan 2020-01-22                       0   \n",
       "1                  Albania 2020-01-22                       0   \n",
       "2                  Algeria 2020-01-22                       0   \n",
       "3                  Andorra 2020-01-22                       0   \n",
       "4                   Angola 2020-01-22                       0   \n",
       "...                    ...        ...                     ...   \n",
       "229737             Vietnam 2023-03-09                11526994   \n",
       "229738  West Bank and Gaza 2023-03-09                  703228   \n",
       "229740               Yemen 2023-03-09                   11945   \n",
       "229741              Zambia 2023-03-09                  343135   \n",
       "229742            Zimbabwe 2023-03-09                  264276   \n",
       "\n",
       "        Muertes acumuladas  Recuperados acumulados  \n",
       "0                        0                       0  \n",
       "1                        0                       0  \n",
       "2                        0                       0  \n",
       "3                        0                       0  \n",
       "4                        0                       0  \n",
       "...                    ...                     ...  \n",
       "229737               43186                       0  \n",
       "229738                5708                       0  \n",
       "229740                2159                       0  \n",
       "229741                4057                       0  \n",
       "229742                5671                       0  \n",
       "\n",
       "[225171 rows x 5 columns]"
      ]
     },
     "execution_count": 35,
     "metadata": {},
     "output_type": "execute_result"
    }
   ],
   "source": [
    "df = df.rename(columns={'Country/Region': 'País'})\n",
    "df"
   ]
  },
  {
   "cell_type": "markdown",
   "id": "a84e8665",
   "metadata": {},
   "source": [
    "**Siguientes pasos: ¿Qué necesitamos hacer?**\n",
    "\n",
    "1. Necesitamos agregar nuevas variables de utilidad, como nuevos confirmados diarios, nuevas muertes diarias y recuperados nuevos diarios.\n",
    "\n",
    "2. Es vital continuar observando la calidad de nuestros datos a partir de las nuevas variables generadas. \n",
    "\n",
    "3. Finalmente, debemos tomar decisiones sobre el manejo de información a partir de su fiabilidad. "
   ]
  },
  {
   "cell_type": "markdown",
   "id": "f2e52afd",
   "metadata": {},
   "source": [
    "**Guardamos nuestra base:**"
   ]
  },
  {
   "cell_type": "code",
   "execution_count": 36,
   "id": "f81da349",
   "metadata": {},
   "outputs": [],
   "source": [
    "df.to_csv('covid_global.csv', index=False)"
   ]
  }
 ],
 "metadata": {
  "kernelspec": {
   "display_name": "Python 3 (ipykernel)",
   "language": "python",
   "name": "python3"
  },
  "language_info": {
   "codemirror_mode": {
    "name": "ipython",
    "version": 3
   },
   "file_extension": ".py",
   "mimetype": "text/x-python",
   "name": "python",
   "nbconvert_exporter": "python",
   "pygments_lexer": "ipython3",
   "version": "3.9.13"
  }
 },
 "nbformat": 4,
 "nbformat_minor": 5
}
