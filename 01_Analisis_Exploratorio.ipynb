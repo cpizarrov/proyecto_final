{
 "cells": [
  {
   "cell_type": "markdown",
   "id": "ccc4eb2e",
   "metadata": {},
   "source": [
    "**Importamos las librerías necesarias**:\n",
    "\n",
    "Este espacio se irá modificando a medida que importemos más librerías."
   ]
  },
  {
   "cell_type": "code",
   "execution_count": 1,
   "id": "e5643fa9",
   "metadata": {},
   "outputs": [],
   "source": [
    "import pandas as pd\n",
    "import numpy as np"
   ]
  },
  {
   "cell_type": "markdown",
   "id": "3506ee78",
   "metadata": {},
   "source": [
    "**Cargamos nuestras bases de datos:**"
   ]
  },
  {
   "cell_type": "code",
   "execution_count": 2,
   "id": "a31bf734",
   "metadata": {},
   "outputs": [],
   "source": [
    "cg = pd.read_csv(\"https://raw.githubusercontent.com/CSSEGISandData/COVID-19/master/csse_covid_19_data/csse_covid_19_time_series/time_series_covid19_confirmed_global.csv\")\n",
    "dg = pd.read_csv(\"https://raw.githubusercontent.com/CSSEGISandData/COVID-19/master/csse_covid_19_data/csse_covid_19_time_series/time_series_covid19_deaths_global.csv\")\n",
    "rg = pd.read_csv(\"https://raw.githubusercontent.com/CSSEGISandData/COVID-19/master/csse_covid_19_data/csse_covid_19_time_series/time_series_covid19_recovered_global.csv\")"
   ]
  }
 ],
 "metadata": {
  "kernelspec": {
   "display_name": "Python 3 (ipykernel)",
   "language": "python",
   "name": "python3"
  },
  "language_info": {
   "codemirror_mode": {
    "name": "ipython",
    "version": 3
   },
   "file_extension": ".py",
   "mimetype": "text/x-python",
   "name": "python",
   "nbconvert_exporter": "python",
   "pygments_lexer": "ipython3",
   "version": "3.9.13"
  }
 },
 "nbformat": 4,
 "nbformat_minor": 5
}
